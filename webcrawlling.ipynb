{
  "nbformat": 4,
  "nbformat_minor": 0,
  "metadata": {
    "colab": {
      "provenance": [],
      "authorship_tag": "ABX9TyPevgjEUfZDRxMEq4WJXMLA",
      "include_colab_link": true
    },
    "kernelspec": {
      "name": "python3",
      "display_name": "Python 3"
    },
    "language_info": {
      "name": "python"
    }
  },
  "cells": [
    {
      "cell_type": "markdown",
      "metadata": {
        "id": "view-in-github",
        "colab_type": "text"
      },
      "source": [
        "<a href=\"https://colab.research.google.com/github/sinyoung0110/DeepLearning_2024_2/blob/main/webcrawlling.ipynb\" target=\"_parent\"><img src=\"https://colab.research.google.com/assets/colab-badge.svg\" alt=\"Open In Colab\"/></a>"
      ]
    },
    {
      "cell_type": "code",
      "execution_count": 1,
      "metadata": {
        "colab": {
          "base_uri": "https://localhost:8080/"
        },
        "id": "4khIzIFAaR2W",
        "outputId": "77239be6-597e-49ab-b8d8-49117b90cb79"
      },
      "outputs": [
        {
          "output_type": "stream",
          "name": "stdout",
          "text": [
            "200\n"
          ]
        }
      ],
      "source": [
        "import requests\n",
        "\n",
        "url='https://finance.naver.com'\n",
        "res=requests.get(url)\n",
        "print(res.status_code)"
      ]
    },
    {
      "cell_type": "code",
      "source": [
        "import requests\n",
        "from bs4 import BeautifulSoup\n",
        "url='https://finance.naver.com'\n",
        "res=requests.get(url)\n",
        "res.raise_for_status()\n",
        "soup=BeautifulSoup(res.text,\"lxml\")"
      ],
      "metadata": {
        "id": "fsXzVd4SaYdL"
      },
      "execution_count": 2,
      "outputs": []
    },
    {
      "cell_type": "code",
      "source": [
        "import os\n",
        "import requests\n",
        "from bs4 import BeautifulSoup\n",
        "import csv\n",
        "from datetime import datetime\n",
        "import pandas as pd\n",
        "\n",
        "def crawl_and_modify_exchange_rates():\n",
        "    # 오늘 날짜 로드\n",
        "    today = datetime.now().strftime('%Y-%m-%d %H')\n",
        "\n",
        "    # data 폴더에 파일저장\n",
        "    folder_path = 'data'\n",
        "\n",
        "    # 저장할 파일 경로 생성\n",
        "    file_path = os.path.join(folder_path, f'exchange_rates_{today}.csv')\n",
        "\n",
        "    # 환율 URL\n",
        "    url = 'https://finance.naver.com/marketindex/exchangeList.naver'\n",
        "\n",
        "    # requests 모듈을 사용하여 URL에 GET 요청을 보냅니다.\n",
        "    response = requests.get(url)\n",
        "\n",
        "    # 요청이 성공했는지 확인\n",
        "    if response.status_code == 200:\n",
        "        # BeautifulSoup을 사용하여 HTML을 파싱\n",
        "        soup = BeautifulSoup(response.text, 'html.parser')\n",
        "\n",
        "        # 환율 정보가 담긴 테이블을 찾습니다.\n",
        "        exchange_table = soup.find('table', class_='tbl_exchange')\n",
        "\n",
        "        # 파일에 데이터를 저장하기 위해 CSV 파일을 엽니다.\n",
        "        with open(file_path, 'w', newline='', encoding='utf-8') as csvfile:\n",
        "            # CSV 파일을 작성하기 위해 writer 객체를 생성합니다.\n",
        "            writer = csv.writer(csvfile)\n",
        "\n",
        "            # 테이블 내의 각 행을 찾습니다.\n",
        "            rows = exchange_table.find_all('tr')\n",
        "\n",
        "            # 각 행의 데이터를 가져와 CSV 파일에 씁니다.\n",
        "            for row in rows:\n",
        "                # 행의 각 셀을 가져옵니다.\n",
        "                cells = row.find_all('td')\n",
        "\n",
        "                # 셀의 데이터를 CSV 파일에 씁니다.\n",
        "                row_data = [cell.text.strip() for cell in cells]\n",
        "                writer.writerow(row_data)\n",
        "\n",
        "        print(f'CSV 파일 {file_path}로 저장되었습니다.')\n",
        "\n",
        "        # 데이터 로드\n",
        "        n_data = pd.read_csv(file_path)\n",
        "\n",
        "        # 필요없는 3열부터 다 삭제\n",
        "        n_data = n_data.iloc[:, :2]\n",
        "\n",
        "        # 데이터가 너무 많으니 4행까지만 남기기\n",
        "        # n_data.drop(index=n_data.index[5:], inplace=True)\n",
        "\n",
        "        # 미국 값을 저장\n",
        "        usd_value = n_data.iloc[0, 1]\n",
        "\n",
        "        # 헤더에 미국 USD 추가\n",
        "        n_data.loc[-1] = ['미국 USD', usd_value]\n",
        "        n_data.index = n_data.index + 1\n",
        "        n_data.sort_index(inplace=True)\n",
        "\n",
        "        # 열 헤더 수정\n",
        "        n_data.columns = ['국가명', '금액']\n",
        "\n",
        "        # 수정된 파일 덮어쓰기\n",
        "        n_data.to_csv(file_path, index=False)\n",
        "\n",
        "        # 결과 출력\n",
        "        print(n_data)\n",
        "    else:\n",
        "        print('페이지를 찾을 수 없습니다.')\n",
        "\n",
        "# 함수 호출\n",
        "crawl_and_modify_exchange_rates()\n"
      ],
      "metadata": {
        "id": "A_lGdOtdbNoG"
      },
      "execution_count": null,
      "outputs": []
    }
  ]
}