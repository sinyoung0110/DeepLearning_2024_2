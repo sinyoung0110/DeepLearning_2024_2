{
  "nbformat": 4,
  "nbformat_minor": 0,
  "metadata": {
    "colab": {
      "provenance": [],
      "authorship_tag": "ABX9TyM7wrlqBhmi++eLrilWBEZE",
      "include_colab_link": true
    },
    "kernelspec": {
      "name": "python3",
      "display_name": "Python 3"
    },
    "language_info": {
      "name": "python"
    }
  },
  "cells": [
    {
      "cell_type": "markdown",
      "metadata": {
        "id": "view-in-github",
        "colab_type": "text"
      },
      "source": [
        "<a href=\"https://colab.research.google.com/github/sinyoung0110/DeepLearning_2024_2/blob/main/%08SVM02.ipynb\" target=\"_parent\"><img src=\"https://colab.research.google.com/assets/colab-badge.svg\" alt=\"Open In Colab\"/></a>"
      ]
    },
    {
      "cell_type": "markdown",
      "source": [
        "## import library\n"
      ],
      "metadata": {
        "id": "357OdAmbeFdS"
      }
    },
    {
      "cell_type": "code",
      "execution_count": 3,
      "metadata": {
        "id": "zF7F4-KCdZ0o"
      },
      "outputs": [],
      "source": [
        "#library\n",
        "import numpy as np\n",
        "import pandas as pd\n",
        "import matplotlib.pyplot as plt\n",
        "import tensorflow as tf\n",
        "\n",
        "from sklearn import svm\n",
        "from sklearn import metrics\n",
        "from sklearn import datasets\n",
        "from sklearn.model_selection import train_test_split\n",
        "from sklearn.svm import SVC\n",
        "import os\n",
        "\n",
        "# ensorFlow의 로그 출력을 줄이기 위해 사용되는 코드\n",
        "os.environ['TF_CPP_MIN_LOG_LEVEL'] = '3'"
      ]
    },
    {
      "cell_type": "code",
      "source": [
        "#sklearn에서 제공하는 iris호출\n",
        "iris=datasets.load_iris()\n",
        "\n",
        "#sklearn에서 제공하는 model_selection 패키지에서 제공하는 train_test_split() 메서드를 활용\n",
        "X_train,X_test,y_train,y_test=train_test_split(iris.data,iris.target,test_size=0.3, random_state=42)\n",
        "\n",
        "\n",
        "# train_test_split으로 훈련 데이터와 테스터 데이터를 나눈 것을 확인하기 위해 shape을 해본다.\n",
        "#X_train.shape #(105, 4)\n",
        "#X_test.shape #(45, 4)\n",
        "#y_train.shape #(105,)\n",
        "y_test.shape #(45,)"
      ],
      "metadata": {
        "colab": {
          "base_uri": "https://localhost:8080/"
        },
        "id": "uGpjzAEkenlL",
        "outputId": "3d8f4538-facf-4051-ff2b-2c1383173cf2"
      },
      "execution_count": 11,
      "outputs": [
        {
          "output_type": "execute_result",
          "data": {
            "text/plain": [
              "(45,)"
            ]
          },
          "metadata": {},
          "execution_count": 11
        }
      ]
    },
    {
      "cell_type": "code",
      "source": [
        "#SVM model accuracy\n",
        "#svm=svm.SVC(kernel='linear',C=1.0,gamma=0.5)\n",
        "#svm.fit(X_train,y_train)\n",
        "\n",
        "model=svm.SVC(kernel='linear',C=10.0)       #kernel='linear':선형 커널을 사용하여 데이터를 분류, 3D='RBF'\n",
        "                                            #c=1.0:오류에 대한 패널티를 조절하는 하이퍼파리미터(값이 크면 오분\n",
        "                                            #gamma=0.5 : RBF 커널(Radial Basis Function : 방사 기저 함수 : 비선형\n",
        "\n",
        "\n",
        "\n",
        "\n",
        "model.fit(X_train,y_train) #훈련 데이터를 사용하여 svm 분류기를 훈련\n",
        "\n",
        "predictions=model.predict(X_test) #훈련된 모델을 사용하여 테스트 데이터에서 예측\n",
        "score=metrics.accuracy_score(y_test,predictions)\n",
        "print(\"정확도:{0:0.3f}\".format(score))"
      ],
      "metadata": {
        "colab": {
          "base_uri": "https://localhost:8080/"
        },
        "id": "tbCIDDdjg0oX",
        "outputId": "98c53d60-fada-4ec1-ba85-44648d68fa86"
      },
      "execution_count": 14,
      "outputs": [
        {
          "output_type": "stream",
          "name": "stdout",
          "text": [
            "정확도:0.978\n"
          ]
        }
      ]
    },
    {
      "cell_type": "code",
      "source": [
        "# 결과값이 0,1,2로 나오는 것은 붓꽃 데이터 세 종류를 각각 0,1,2라 했을 때\n",
        "# y_test의 값과 x_test로 예측한 predictions가 얼마나 같은지 눈으로 볼 수 있다.\n",
        "print(y_test)\n",
        "print(predictions)"
      ],
      "metadata": {
        "colab": {
          "base_uri": "https://localhost:8080/"
        },
        "id": "CcJAxvccjtQU",
        "outputId": "2d31ec10-c7f0-4c0e-b828-882bfaac4365"
      },
      "execution_count": 15,
      "outputs": [
        {
          "output_type": "stream",
          "name": "stdout",
          "text": [
            "[1 0 2 1 1 0 1 2 1 1 2 0 0 0 0 1 2 1 1 2 0 2 0 2 2 2 2 2 0 0 0 0 1 0 0 2 1\n",
            " 0 0 0 2 1 1 0 0]\n",
            "[1 0 2 1 1 0 1 2 2 1 2 0 0 0 0 1 2 1 1 2 0 2 0 2 2 2 2 2 0 0 0 0 1 0 0 2 1\n",
            " 0 0 0 2 1 1 0 0]\n"
          ]
        }
      ]
    },
    {
      "cell_type": "code",
      "source": [
        "print(metrics.classification_report(y_test,predictions))\n",
        "#accuracy : 정확도 : TP+TN/TP+TN+FP+FN\n",
        "#precision : 정밀도(예측한 것을 실제로 맞춘 비율) TP / TP+FP\n",
        "#recall : 재현율 (실제를 예측해서 맞춘 비율) TP / TP+FN"
      ],
      "metadata": {
        "colab": {
          "base_uri": "https://localhost:8080/"
        },
        "id": "4N52fPsIjyDF",
        "outputId": "e4385a28-2912-4fcf-c431-3f98f87f4f67"
      },
      "execution_count": 16,
      "outputs": [
        {
          "output_type": "stream",
          "name": "stdout",
          "text": [
            "              precision    recall  f1-score   support\n",
            "\n",
            "           0       1.00      1.00      1.00        19\n",
            "           1       1.00      0.92      0.96        13\n",
            "           2       0.93      1.00      0.96        13\n",
            "\n",
            "    accuracy                           0.98        45\n",
            "   macro avg       0.98      0.97      0.97        45\n",
            "weighted avg       0.98      0.98      0.98        45\n",
            "\n"
          ]
        }
      ]
    },
    {
      "cell_type": "code",
      "source": [
        "# Iris 데이터셋 불러오기\n",
        "iris = datasets.load_iris()\n",
        "\n",
        "# DataFrame 생성\n",
        "df = pd.DataFrame(iris.data, columns=iris.feature_names)\n",
        "\n",
        "# target feature 추가\n",
        "df['target'] = iris.target\n",
        "\n",
        "# target 값을 flower 이름으로 변환\n",
        "df['flower_name'] = df.target.apply(lambda x: iris.target_names[x])\n",
        "\n",
        "# target 값별로 DataFrame 분리\n",
        "df0 = df[df.target == 0]\n",
        "df1 = df[df.target == 1]\n",
        "df2 = df[df.target == 2]\n",
        "\n",
        "# 산점도 그리기\n",
        "plt.scatter(df0['sepal length (cm)'], df0['sepal width (cm)'], color='green', marker='+', label='setosa')\n",
        "plt.scatter(df1['sepal length (cm)'], df1['sepal width (cm)'], color='blue', marker='.', label='versicolor')\n",
        "plt.scatter(df2['sepal length (cm)'], df2['sepal width (cm)'], color='red', marker='x', label='virginica')\n",
        "\n",
        "# 축 레이블 설정\n",
        "plt.xlabel('sepal length (cm)')\n",
        "plt.ylabel('sepal width (cm)')\n",
        "\n",
        "# 범례 추가\n",
        "plt.legend()\n",
        "\n",
        "# 그래프 보여주기\n",
        "plt.show()\n"
      ],
      "metadata": {
        "colab": {
          "base_uri": "https://localhost:8080/",
          "height": 452
        },
        "id": "Y7w_iyPblLmA",
        "outputId": "9e4ace91-90ea-4edf-c4fc-9a34637df117"
      },
      "execution_count": 23,
      "outputs": [
        {
          "output_type": "display_data",
          "data": {
            "text/plain": [
              "<Figure size 640x480 with 1 Axes>"
            ],
            "image/png": "[encoded data removed]"
          },
          "metadata": {}
        }
      ]
    },
    {
      "cell_type": "code",
      "source": [
        "plt.scatter(df0['petal length (cm)'], df0['petal width (cm)'], color='green', marker='+', label='setosa')\n",
        "plt.scatter(df1['petal length (cm)'], df1['petal width (cm)'], color='blue', marker='.', label='versicolor')\n",
        "plt.xlabel('petal length (cm)')\n",
        "plt.ylabel('petal width (cm)')"
      ],
      "metadata": {
        "colab": {
          "base_uri": "https://localhost:8080/",
          "height": 467
        },
        "id": "0LaNW8WFoWeI",
        "outputId": "9f04090a-8a08-49a6-f3e9-4cf1c4794490"
      },
      "execution_count": 24,
      "outputs": [
        {
          "output_type": "execute_result",
          "data": {
            "text/plain": [
              "Text(0, 0.5, 'petal width (cm)')"
            ]
          },
          "metadata": {},
          "execution_count": 24
        },
        {
          "output_type": "display_data",
          "data": {
            "text/plain": [
              "<Figure size 640x480 with 1 Axes>"
            ],
            "image/png": "[encoded data removed]"
          },
          "metadata": {}
        }
      ]
    },
    {
      "cell_type": "code",
      "source": [
        "X=df.drop(['target','flower_name'],axis='columns')\n",
        "y=df.target\n",
        "\n",
        "X_train,X_test,y_train,y_test=train_test_split(X,y,test_size=0.2)\n",
        "\n",
        "model=SVC()\n",
        "#C값이 클수록 하드마진(오류 허용 안 함),작을수록 소프트마진(오류를 허용함)이다\n",
        "#shift tab으로 svc확인!(여러 파라미터들이 있다.)\n",
        "model.fit(X_train,y_train)\n",
        "\n",
        "model.score(X_test,y_test)"
      ],
      "metadata": {
        "colab": {
          "base_uri": "https://localhost:8080/"
        },
        "id": "QJTvJM1QpTUh",
        "outputId": "fffc2971-d1b8-46a8-9710-689458bb7d87"
      },
      "execution_count": 25,
      "outputs": [
        {
          "output_type": "execute_result",
          "data": {
            "text/plain": [
              "0.9666666666666667"
            ]
          },
          "metadata": {},
          "execution_count": 25
        }
      ]
    },
    {
      "cell_type": "code",
      "source": [],
      "metadata": {
        "id": "XealJyLapmp5"
      },
      "execution_count": null,
      "outputs": []
    }
  ]
}